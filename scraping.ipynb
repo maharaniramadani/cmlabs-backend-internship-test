{
  "nbformat": 4,
  "nbformat_minor": 0,
  "metadata": {
    "colab": {
      "provenance": [],
      "authorship_tag": "ABX9TyP1fVzY27R+p/KdULyPOXUl",
      "include_colab_link": true
    },
    "kernelspec": {
      "name": "python3",
      "display_name": "Python 3"
    },
    "language_info": {
      "name": "python"
    }
  },
  "cells": [
    {
      "cell_type": "markdown",
      "metadata": {
        "id": "view-in-github",
        "colab_type": "text"
      },
      "source": [
        "<a href=\"https://colab.research.google.com/github/maharaniramadani/cmlabs-backend-internship-test/blob/main/scraping.ipynb\" target=\"_parent\"><img src=\"https://colab.research.google.com/assets/colab-badge.svg\" alt=\"Open In Colab\"/></a>"
      ]
    },
    {
      "cell_type": "code",
      "execution_count": 1,
      "metadata": {
        "id": "ICLZhu0VdIco"
      },
      "outputs": [],
      "source": [
        "import re\n",
        "import json\n",
        "import requests\n",
        "import csv"
      ]
    },
    {
      "cell_type": "code",
      "source": [
        "f = csv.writer(open('data-review.csv', 'w', newline=''))\n",
        "f.writerow(['Username', 'Review'])"
      ],
      "metadata": {
        "colab": {
          "base_uri": "https://localhost:8080/"
        },
        "id": "K1fpUwuxdaSF",
        "outputId": "8b63cc5d-6155-4baa-fc02-1c45aa0d03f8"
      },
      "execution_count": 26,
      "outputs": [
        {
          "output_type": "execute_result",
          "data": {
            "text/plain": [
              "17"
            ]
          },
          "metadata": {},
          "execution_count": 26
        }
      ]
    },
    {
      "cell_type": "code",
      "source": [
        "url = 'https://shopee.co.id/Azarine-Herbal-Essential-Series-Peeling-Serum-Hydrasoothe-Sunscreen-Gel-Sleeping-Mask-Halal-Original-BPOM-i.35017261.9170622268'"
      ],
      "metadata": {
        "id": "mRaGMnP7dcx7"
      },
      "execution_count": 30,
      "outputs": []
    },
    {
      "cell_type": "code",
      "source": [
        "r = re.search(r'i\\.(\\d+)\\.(\\d+)', url)\n",
        "shop_id, item_id = r[1], r[2]\n",
        "ratings_url = 'https://shopee.co.id/api/v2/item/get_ratings?filter=0&flag=1&itemid={item_id}&limit=20&offset={offset}&shopid={shop_id}&type=0'"
      ],
      "metadata": {
        "id": "JrzUw5XVdkEK"
      },
      "execution_count": 31,
      "outputs": []
    },
    {
      "cell_type": "code",
      "source": [
        "offset = 0\n",
        "while True:\n",
        "  data = requests.get(ratings_url.format(shop_id=shop_id, item_id=item_id, offset=offset)).json()\n",
        "  i = 1\n",
        "  for i, rating in enumerate(data['data']['ratings'], 1):\n",
        "        user = rating['author_username']\n",
        "        comment = rating['comment']\n",
        "        f.writerow([user, comment])\n",
        "  if i % 20:\n",
        "        break\n",
        "  offset += 20"
      ],
      "metadata": {
        "id": "JrorKLGPdnnC"
      },
      "execution_count": 32,
      "outputs": []
    },
    {
      "cell_type": "code",
      "source": [],
      "metadata": {
        "id": "PDzx7mRleVmF"
      },
      "execution_count": null,
      "outputs": []
    }
  ]
}